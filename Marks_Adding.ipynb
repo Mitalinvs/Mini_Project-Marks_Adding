{
  "nbformat": 4,
  "nbformat_minor": 0,
  "metadata": {
    "colab": {
      "provenance": [],
      "authorship_tag": "ABX9TyOOHMrn3gkZGstKljd7H4+8",
      "include_colab_link": true
    },
    "kernelspec": {
      "name": "python3",
      "display_name": "Python 3"
    },
    "language_info": {
      "name": "python"
    }
  },
  "cells": [
    {
      "cell_type": "markdown",
      "metadata": {
        "id": "view-in-github",
        "colab_type": "text"
      },
      "source": [
        "<a href=\"https://colab.research.google.com/github/Mitalinvs/Mini_Project-Marks_Adding/blob/main/Marks_Adding.ipynb\" target=\"_parent\"><img src=\"https://colab.research.google.com/assets/colab-badge.svg\" alt=\"Open In Colab\"/></a>"
      ]
    },
    {
      "cell_type": "code",
      "execution_count": 13,
      "metadata": {
        "colab": {
          "base_uri": "https://localhost:8080/"
        },
        "id": "xjWK9uqQ2HRI",
        "outputId": "1b292c11-e904-40c2-bbad-ebb237e7b236"
      },
      "outputs": [
        {
          "output_type": "stream",
          "name": "stdout",
          "text": [
            "    Roll Number  Marks\n",
            "0     102003542      4\n",
            "1     102003640      5\n",
            "2     102003725      5\n",
            "3     102003307      4\n",
            "4     102003458      5\n",
            "..          ...    ...\n",
            "395   102017150      4\n",
            "396   102003690      1\n",
            "397   102003149      2\n",
            "398   102003089      1\n",
            "399   102180347      1\n",
            "\n",
            "[400 rows x 2 columns]\n"
          ]
        }
      ],
      "source": [
        "import pandas as pd\n",
        "import csv\n",
        "\n",
        "marks = {}  # Dictionary to store roll number and marks\n",
        "\n",
        "# Function to add marks\n",
        "def add_marks(roll, marks_value):\n",
        "    if roll in marks:\n",
        "        marks[roll] += marks_value\n",
        "    else:\n",
        "        marks[roll] = marks_value\n",
        "\n",
        "#Read input from csv file\n",
        "try:\n",
        "        file= open('Dataset.csv')\n",
        "        csv_reader = csv.reader(file)\n",
        "        next(csv_reader)  # Skip the header row\n",
        "        \n",
        "        for row in csv_reader:\n",
        "            try:\n",
        "                roll_number = row[0]\n",
        "                marks_value = int(row[1])\n",
        "                add_marks(roll_number, marks_value)\n",
        "            except (IndexError, ValueError):\n",
        "                print(\"Invalid data in the CSV file.\")\n",
        "except FileNotFoundError:\n",
        "    print(\"File not found.\")\n",
        "\n",
        "# Print the total marks for each roll number\n",
        "df = pd.DataFrame(marks.items(), columns=['Roll Number', 'Marks'])    #marks.items() returns a sequence of tuples, where each tuple consists of a key-value pair from the dictionary.\n",
        "print(df)\n",
        "\n",
        "df.to_csv('Output.csv')\n",
        "\n",
        "# Print the total marks for each roll number\n",
        "# for roll, marks_value in marks.items():\n",
        "#     print(\"Roll Number:\", roll, \"- Total Marks:\", marks_value)\n",
        "\n",
        "# df = pd.Series(marks)\n",
        "# #print (df)"
      ]
    }
  ]
}